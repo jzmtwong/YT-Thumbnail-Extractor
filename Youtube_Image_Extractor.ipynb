{
 "cells": [
  {
   "cell_type": "code",
   "execution_count": 1,
   "metadata": {},
   "outputs": [],
   "source": [
    "# import dependencies\n",
    "from splinter import Browser\n",
    "import pandas as pd\n",
    "import requests\n",
    "import os\n",
    "import time\n",
    "from bs4 import BeautifulSoup"
   ]
  },
  {
   "cell_type": "code",
   "execution_count": 2,
   "metadata": {},
   "outputs": [],
   "source": [
    "#create executable path\n",
    "base = 'https://www.youtube.com/watch?v='\n",
    "v_link = 'MfcDN5dJZPs'\n",
    "url = base + v_link\n",
    "#create brower visit\n",
    "response = requests.get(url)\n",
    "#taking time to load, so need to sleep\n",
    "time.sleep(3)\n",
    "soup = BeautifulSoup(response.text, 'html.parser')\n"
   ]
  },
  {
   "cell_type": "code",
   "execution_count": 60,
   "metadata": {},
   "outputs": [
    {
     "name": "stdout",
     "output_type": "stream",
     "text": [
      "https://i.ytimg.com/vi/MfcDN5dJZPs/maxresdefault.jpg\n"
     ]
    }
   ],
   "source": [
    "# scape the Thumbnail Image link URL\n",
    "\n",
    "rough_link = soup.find('div', class_='watch-main-col').find('span',itemprop='thumbnail').link\n",
    "\n",
    "\n",
    "#extract url\n",
    "thumbnail_url = (rough_link['href'])\n",
    "print(thumbnail_url)\n"
   ]
  },
  {
   "cell_type": "code",
   "execution_count": null,
   "metadata": {},
   "outputs": [],
   "source": []
  }
 ],
 "metadata": {
  "kernelspec": {
   "display_name": "Python 3",
   "language": "python",
   "name": "python3"
  },
  "language_info": {
   "codemirror_mode": {
    "name": "ipython",
    "version": 3
   },
   "file_extension": ".py",
   "mimetype": "text/x-python",
   "name": "python",
   "nbconvert_exporter": "python",
   "pygments_lexer": "ipython3",
   "version": "3.7.6"
  }
 },
 "nbformat": 4,
 "nbformat_minor": 4
}
